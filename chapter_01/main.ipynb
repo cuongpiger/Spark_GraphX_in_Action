{
 "cells": [
  {
   "cell_type": "markdown",
   "metadata": {},
   "source": [
    "# 1. Đồ thị là gì?\n",
    "* Các đối tượng tạo nên một đồ thị:\n",
    "  * Đỉnh - hay còn được gọi là **node**.\n",
    "  * Cạnh - còn được gọi là **relationship**.\n",
    "  ![](./images/01.png) "
   ]
  },
  {
   "cell_type": "markdown",
   "metadata": {},
   "source": []
  }
 ],
 "metadata": {
  "interpreter": {
   "hash": "8d9af65d782dbd37fec13b95660a3f96d11b2648e2cfc799a970c340749ecbb7"
  },
  "kernelspec": {
   "display_name": "Python 3.7.11 64-bit ('pyspark_env': conda)",
   "language": "python",
   "name": "python3"
  },
  "language_info": {
   "name": "python",
   "version": "3.7.11"
  },
  "orig_nbformat": 4
 },
 "nbformat": 4,
 "nbformat_minor": 2
}
