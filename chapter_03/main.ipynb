{
 "cells": [
  {
   "cell_type": "markdown",
   "id": "a703ea5d-9271-4bab-8fc4-f24c08051780",
   "metadata": {},
   "source": [
    "Khai báo một hàm bình thường trong Scala"
   ]
  },
  {
   "cell_type": "code",
   "execution_count": 1,
   "id": "0b3597ad-b63b-470c-b8cd-189ece4a39f3",
   "metadata": {},
   "outputs": [
    {
     "data": {
      "text/plain": [
       "Intitializing Scala interpreter ..."
      ]
     },
     "metadata": {},
     "output_type": "display_data"
    },
    {
     "data": {
      "text/plain": [
       "Spark Web UI available at http://192.168.1.14:4040\n",
       "SparkContext available as 'sc' (version = 3.0.3, master = local[*], app id = local-1641886099823)\n",
       "SparkSession available as 'spark'\n"
      ]
     },
     "metadata": {},
     "output_type": "display_data"
    },
    {
     "data": {
      "text/plain": [
       "welcome: (name: String)String\n"
      ]
     },
     "execution_count": 1,
     "metadata": {},
     "output_type": "execute_result"
    }
   ],
   "source": [
    "def welcome(name:String) = \"Hello, \" + name"
   ]
  },
  {
   "cell_type": "code",
   "execution_count": 2,
   "id": "855a13a5-c7e1-4e1b-a3b0-acaf85aae033",
   "metadata": {},
   "outputs": [
    {
     "data": {
      "text/plain": [
       "res0: String = Hello, Mạnh Cường\n"
      ]
     },
     "execution_count": 2,
     "metadata": {},
     "output_type": "execute_result"
    }
   ],
   "source": [
    "welcome(\"Mạnh Cường\")"
   ]
  },
  {
   "cell_type": "markdown",
   "id": "08f7dbc3-b919-429e-8806-9bba00e7f16e",
   "metadata": {},
   "source": [
    "Khai báo một anonymous function"
   ]
  },
  {
   "cell_type": "code",
   "execution_count": 3,
   "id": "181abd35-8086-4e28-9300-15bc04663789",
   "metadata": {},
   "outputs": [
    {
     "data": {
      "text/plain": [
       "f: String => String = $Lambda$1933/0x0000000840bd2040@f8f47da\n"
      ]
     },
     "execution_count": 3,
     "metadata": {},
     "output_type": "execute_result"
    }
   ],
   "source": [
    "val f = (name:String) => \"Hello, \" + name"
   ]
  },
  {
   "cell_type": "code",
   "execution_count": 4,
   "id": "ac8baf96-692e-4c1d-a3ee-0460c6028d4d",
   "metadata": {},
   "outputs": [
    {
     "data": {
      "text/plain": [
       "res1: String = Hello, Mạnh Cường\n"
      ]
     },
     "execution_count": 4,
     "metadata": {},
     "output_type": "execute_result"
    }
   ],
   "source": [
    "f(\"Mạnh Cường\")"
   ]
  },
  {
   "cell_type": "code",
   "execution_count": 5,
   "id": "c87a9414-66e7-4690-8ee9-76462b840c56",
   "metadata": {},
   "outputs": [
    {
     "data": {
      "text/plain": [
       "res2: String = Hello, Khánh Hưng\n"
      ]
     },
     "execution_count": 5,
     "metadata": {},
     "output_type": "execute_result"
    }
   ],
   "source": [
    "f(\"Khánh Hưng\")"
   ]
  },
  {
   "cell_type": "code",
   "execution_count": 7,
   "id": "32dac5d2-bb74-4b52-b028-41f642e2a514",
   "metadata": {},
   "outputs": [
    {
     "name": "stdout",
     "output_type": "stream",
     "text": [
      "Hello, Cường\n",
      "Hello, Quế\n",
      "Hello, Phương\n"
     ]
    }
   ],
   "source": [
    "List(\"Cường\", \"Quế\", \"Phương\").map((name) => \"Hello, \" + name).foreach(println)"
   ]
  },
  {
   "cell_type": "code",
   "execution_count": null,
   "id": "6a95c1a5-1574-4581-87c9-c6ad0b8d01ad",
   "metadata": {},
   "outputs": [],
   "source": []
  }
 ],
 "metadata": {
  "kernelspec": {
   "display_name": "spylon-kernel",
   "language": "scala",
   "name": "spylon-kernel"
  },
  "language_info": {
   "codemirror_mode": "text/x-scala",
   "file_extension": ".scala",
   "help_links": [
    {
     "text": "MetaKernel Magics",
     "url": "https://metakernel.readthedocs.io/en/latest/source/README.html"
    }
   ],
   "mimetype": "text/x-scala",
   "name": "scala",
   "pygments_lexer": "scala",
   "version": "0.4.1"
  }
 },
 "nbformat": 4,
 "nbformat_minor": 5
}
