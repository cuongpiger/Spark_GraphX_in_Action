{
 "cells": [
  {
   "cell_type": "markdown",
   "metadata": {},
   "source": [
    "🌻 Import thư viện"
   ]
  },
  {
   "cell_type": "code",
   "execution_count": 1,
   "metadata": {},
   "outputs": [],
   "source": [
    "from pyspark.sql.types import *\n",
    "from graphframes import *\n",
    "from pyspark.sql import SparkSession"
   ]
  },
  {
   "cell_type": "code",
   "execution_count": 2,
   "metadata": {},
   "outputs": [],
   "source": [
    "import findspark\n",
    "findspark.init()"
   ]
  },
  {
   "cell_type": "code",
   "execution_count": 3,
   "metadata": {},
   "outputs": [
    {
     "name": "stderr",
     "output_type": "stream",
     "text": [
      "22/01/12 21:41:05 WARN Utils: Your hostname, Rose resolves to a loopback address: 127.0.1.1; using 192.168.1.14 instead (on interface enp3s0)\n",
      "22/01/12 21:41:05 WARN Utils: Set SPARK_LOCAL_IP if you need to bind to another address\n",
      "WARNING: An illegal reflective access operation has occurred\n",
      "WARNING: Illegal reflective access by org.apache.spark.unsafe.Platform (file:/opt/spark-3.0.3/jars/spark-unsafe_2.12-3.0.3.jar) to constructor java.nio.DirectByteBuffer(long,int)\n",
      "WARNING: Please consider reporting this to the maintainers of org.apache.spark.unsafe.Platform\n",
      "WARNING: Use --illegal-access=warn to enable warnings of further illegal reflective access operations\n",
      "WARNING: All illegal access operations will be denied in a future release\n",
      "22/01/12 21:41:05 WARN NativeCodeLoader: Unable to load native-hadoop library for your platform... using builtin-java classes where applicable\n",
      "Using Spark's default log4j profile: org/apache/spark/log4j-defaults.properties\n",
      "Setting default log level to \"WARN\".\n",
      "To adjust logging level use sc.setLogLevel(newLevel). For SparkR, use setLogLevel(newLevel).\n",
      "22/01/12 21:41:06 WARN Utils: Service 'SparkUI' could not bind on port 4040. Attempting port 4041.\n",
      "22/01/12 21:41:06 WARN Utils: Service 'SparkUI' could not bind on port 4041. Attempting port 4042.\n",
      "22/01/12 21:41:06 WARN Utils: Service 'SparkUI' could not bind on port 4042. Attempting port 4043.\n",
      "22/01/12 21:41:06 WARN Utils: Service 'SparkUI' could not bind on port 4043. Attempting port 4044.\n",
      "22/01/12 21:41:06 WARN Utils: Service 'SparkUI' could not bind on port 4044. Attempting port 4045.\n"
     ]
    }
   ],
   "source": [
    "spark = SparkSession.builder.appName(\"BFS-transport\").getOrCreate()"
   ]
  },
  {
   "cell_type": "markdown",
   "metadata": {},
   "source": [
    "🌻 Tạo GraphFrames từ file ***.csv**."
   ]
  },
  {
   "cell_type": "code",
   "execution_count": 4,
   "metadata": {},
   "outputs": [],
   "source": [
    "def createTransportGraph():\n",
    "    # custom object\n",
    "    node_fields = [\n",
    "        StructField(\"id\", StringType(), True),\n",
    "        StructField(\"lattitude\", FloatType(), True),\n",
    "        StructField(\"longitude\", FloatType(), True),\n",
    "        StructField(\"population\", IntegerType(), True)\n",
    "    ]\n",
    "    \n",
    "    nodes = spark.read.csv(\"./data/transport-nodes.csv\",\n",
    "                           header=True, schema=StructType(node_fields))\n",
    "    \n",
    "    # đọc file thể hiện các mối quan hệ giữa các chuyến bay\n",
    "    rels = spark.read.csv(\"./data/transport-relationships.csv\", header=True)\n",
    "    \n",
    "    reversed_rels = (rels.withColumn(\"newSrc\", rels.dst).\n",
    "                        withColumn(\"newDst\", rels.src).\n",
    "                        drop(\"dst\", \"src\").\n",
    "                        withColumnRenamed(\"newSrc\", \"src\").\n",
    "                        withColumnRenamed(\"newDst\", \"dst\").\n",
    "                        select(\"src\", \"dst\", \"relationship\", \"cost\"))\n",
    "    \n",
    "    relationships = rels.union(reversed_rels)\n",
    "    \n",
    "    return GraphFrame(nodes, relationships)\n",
    "    "
   ]
  },
  {
   "cell_type": "code",
   "execution_count": 5,
   "metadata": {},
   "outputs": [],
   "source": [
    "g = createTransportGraph()"
   ]
  },
  {
   "cell_type": "code",
   "execution_count": 6,
   "metadata": {},
   "outputs": [
    {
     "name": "stdout",
     "output_type": "stream",
     "text": [
      "+----------+---------+---------+----------+\n",
      "|        id|lattitude|longitude|population|\n",
      "+----------+---------+---------+----------+\n",
      "|Colchester| 51.88921|  0.90421|    104390|\n",
      "|   Ipswich| 52.05917|  1.15545|    133384|\n",
      "+----------+---------+---------+----------+\n",
      "\n"
     ]
    },
    {
     "name": "stderr",
     "output_type": "stream",
     "text": [
      "22/01/12 21:41:10 WARN CSVHeaderChecker: CSV header does not conform to the schema.\n",
      " Header: id, latitude, longitude, population\n",
      " Schema: id, lattitude, longitude, population\n",
      "Expected: lattitude but found: latitude\n",
      "CSV file: file:///home/manhcuong/Documents/Spark_GraphX_in_Action/chapter_04/data/transport-nodes.csv\n"
     ]
    }
   ],
   "source": [
    "g.vertices.filter(\"population > 100000 and population < 300000\").\\\n",
    "    sort(\"population\").show()"
   ]
  },
  {
   "cell_type": "code",
   "execution_count": 7,
   "metadata": {},
   "outputs": [
    {
     "name": "stderr",
     "output_type": "stream",
     "text": [
      "22/01/12 21:43:51 WARN CSVHeaderChecker: CSV header does not conform to the schema.\n",
      " Header: id, latitude, longitude, population\n",
      " Schema: id, lattitude, longitude, population\n",
      "Expected: lattitude but found: latitude\n",
      "CSV file: file:///home/manhcuong/Documents/Spark_GraphX_in_Action/chapter_04/data/transport-nodes.csv\n",
      "22/01/12 21:43:51 WARN CSVHeaderChecker: CSV header does not conform to the schema.\n",
      " Header: id, latitude, longitude, population\n",
      " Schema: id, lattitude, longitude, population\n",
      "Expected: lattitude but found: latitude\n",
      "CSV file: file:///home/manhcuong/Documents/Spark_GraphX_in_Action/chapter_04/data/transport-nodes.csv\n",
      "22/01/12 21:43:51 WARN CSVHeaderChecker: CSV header does not conform to the schema.\n",
      " Header: id, latitude, longitude, population\n",
      " Schema: id, lattitude, longitude, population\n",
      "Expected: lattitude but found: latitude\n",
      "CSV file: file:///home/manhcuong/Documents/Spark_GraphX_in_Action/chapter_04/data/transport-nodes.csv\n",
      "22/01/12 21:43:52 WARN CSVHeaderChecker: CSV header does not conform to the schema.\n",
      " Header: id, latitude, longitude, population\n",
      " Schema: id, lattitude, longitude, population\n",
      "Expected: lattitude but found: latitude\n",
      "CSV file: file:///home/manhcuong/Documents/Spark_GraphX_in_Action/chapter_04/data/transport-nodes.csv\n",
      "22/01/12 21:43:52 WARN CSVHeaderChecker: CSV header does not conform to the schema.\n",
      " Header: id, latitude, longitude, population\n",
      " Schema: id, lattitude, longitude, population\n",
      "Expected: lattitude but found: latitude\n",
      "CSV file: file:///home/manhcuong/Documents/Spark_GraphX_in_Action/chapter_04/data/transport-nodes.csv\n",
      "22/01/12 21:43:52 WARN CSVHeaderChecker: CSV header does not conform to the schema.\n",
      " Header: id, latitude, longitude, population\n",
      " Schema: id, lattitude, longitude, population\n",
      "Expected: lattitude but found: latitude\n",
      "CSV file: file:///home/manhcuong/Documents/Spark_GraphX_in_Action/chapter_04/data/transport-nodes.csv\n",
      "22/01/12 21:43:52 WARN CSVHeaderChecker: CSV header does not conform to the schema.\n",
      " Header: id, latitude, longitude, population\n",
      " Schema: id, lattitude, longitude, population\n",
      "Expected: lattitude but found: latitude\n",
      "CSV file: file:///home/manhcuong/Documents/Spark_GraphX_in_Action/chapter_04/data/transport-nodes.csv\n",
      "22/01/12 21:43:52 WARN CSVHeaderChecker: CSV header does not conform to the schema.\n",
      " Header: id, latitude, longitude, population\n",
      " Schema: id, lattitude, longitude, population\n",
      "Expected: lattitude but found: latitude\n",
      "CSV file: file:///home/manhcuong/Documents/Spark_GraphX_in_Action/chapter_04/data/transport-nodes.csv\n",
      "22/01/12 21:43:52 WARN CSVHeaderChecker: CSV header does not conform to the schema.\n",
      " Header: id, latitude, longitude, population\n",
      " Schema: id, lattitude, longitude, population\n",
      "Expected: lattitude but found: latitude\n",
      "CSV file: file:///home/manhcuong/Documents/Spark_GraphX_in_Action/chapter_04/data/transport-nodes.csv\n",
      "22/01/12 21:43:54 WARN CSVHeaderChecker: CSV header does not conform to the schema.\n",
      " Header: id, latitude, longitude, population\n",
      " Schema: id, lattitude, longitude, population\n",
      "Expected: lattitude but found: latitude\n",
      "CSV file: file:///home/manhcuong/Documents/Spark_GraphX_in_Action/chapter_04/data/transport-nodes.csv\n",
      "22/01/12 21:43:54 WARN CSVHeaderChecker: CSV header does not conform to the schema.\n",
      " Header: id, latitude, longitude, population\n",
      " Schema: id, lattitude, longitude, population\n",
      "Expected: lattitude but found: latitude\n",
      "CSV file: file:///home/manhcuong/Documents/Spark_GraphX_in_Action/chapter_04/data/transport-nodes.csv\n",
      "22/01/12 21:43:54 WARN CSVHeaderChecker: CSV header does not conform to the schema.\n",
      " Header: id, latitude, longitude, population\n",
      " Schema: id, lattitude, longitude, population\n",
      "Expected: lattitude but found: latitude\n",
      "CSV file: file:///home/manhcuong/Documents/Spark_GraphX_in_Action/chapter_04/data/transport-nodes.csv\n",
      "22/01/12 21:43:54 WARN CSVHeaderChecker: CSV header does not conform to the schema.\n",
      " Header: id, latitude, longitude, population\n",
      " Schema: id, lattitude, longitude, population\n",
      "Expected: lattitude but found: latitude\n",
      "CSV file: file:///home/manhcuong/Documents/Spark_GraphX_in_Action/chapter_04/data/transport-nodes.csv\n"
     ]
    }
   ],
   "source": [
    "from_expr = \"id='Den Haag'\"\n",
    "to_expr = \"population > 100000 and population < 300000 and id <> 'Den Haag'\"\n",
    "result = g.bfs(from_expr, to_expr)"
   ]
  },
  {
   "cell_type": "code",
   "execution_count": 8,
   "metadata": {},
   "outputs": [
    {
     "name": "stdout",
     "output_type": "stream",
     "text": [
      "['from', 'e0', 'v1', 'e1', 'v2', 'e2', 'to']\n"
     ]
    }
   ],
   "source": [
    "print(result.columns)"
   ]
  },
  {
   "cell_type": "code",
   "execution_count": 9,
   "metadata": {},
   "outputs": [
    {
     "name": "stderr",
     "output_type": "stream",
     "text": [
      "22/01/12 21:46:31 WARN CSVHeaderChecker: CSV header does not conform to the schema.\n",
      " Header: id, latitude, longitude, population\n",
      " Schema: id, lattitude, longitude, population\n",
      "Expected: lattitude but found: latitude\n",
      "CSV file: file:///home/manhcuong/Documents/Spark_GraphX_in_Action/chapter_04/data/transport-nodes.csv\n",
      "22/01/12 21:46:31 WARN CSVHeaderChecker: CSV header does not conform to the schema.\n",
      " Header: id, latitude, longitude, population\n",
      " Schema: id, lattitude, longitude, population\n",
      "Expected: lattitude but found: latitude\n",
      "CSV file: file:///home/manhcuong/Documents/Spark_GraphX_in_Action/chapter_04/data/transport-nodes.csv\n",
      "22/01/12 21:46:31 WARN CSVHeaderChecker: CSV header does not conform to the schema.\n",
      " Header: id, latitude, longitude, population\n",
      " Schema: id, lattitude, longitude, population\n",
      "Expected: lattitude but found: latitude\n",
      "CSV file: file:///home/manhcuong/Documents/Spark_GraphX_in_Action/chapter_04/data/transport-nodes.csv\n",
      "22/01/12 21:46:31 WARN CSVHeaderChecker: CSV header does not conform to the schema.\n",
      " Header: id, latitude, longitude, population\n",
      " Schema: id, lattitude, longitude, population\n",
      "Expected: lattitude but found: latitude\n",
      "CSV file: file:///home/manhcuong/Documents/Spark_GraphX_in_Action/chapter_04/data/transport-nodes.csv\n"
     ]
    },
    {
     "name": "stdout",
     "output_type": "stream",
     "text": [
      "+--------------------+--------------------+--------------------+--------------------+\n",
      "|                from|                  v1|                  v2|                  to|\n",
      "+--------------------+--------------------+--------------------+--------------------+\n",
      "|[Den Haag, 52.078...|[Hoek van Holland...|[Felixstowe, 51.9...|[Ipswich, 52.0591...|\n",
      "+--------------------+--------------------+--------------------+--------------------+\n",
      "\n"
     ]
    }
   ],
   "source": [
    "columns = [column for column in result.columns if not column.startswith(\"e\")]\n",
    "result.select(columns).show()"
   ]
  },
  {
   "cell_type": "code",
   "execution_count": null,
   "metadata": {},
   "outputs": [],
   "source": []
  }
 ],
 "metadata": {
  "interpreter": {
   "hash": "8d9af65d782dbd37fec13b95660a3f96d11b2648e2cfc799a970c340749ecbb7"
  },
  "kernelspec": {
   "display_name": "Python 3.7.11 64-bit ('pyspark_env': conda)",
   "language": "python",
   "name": "python3"
  },
  "language_info": {
   "codemirror_mode": {
    "name": "ipython",
    "version": 3
   },
   "file_extension": ".py",
   "mimetype": "text/x-python",
   "name": "python",
   "nbconvert_exporter": "python",
   "pygments_lexer": "ipython3",
   "version": "3.7.11"
  },
  "orig_nbformat": 4
 },
 "nbformat": 4,
 "nbformat_minor": 2
}
