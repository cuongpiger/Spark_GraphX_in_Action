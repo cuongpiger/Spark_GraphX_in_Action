{
 "cells": [
  {
   "cell_type": "code",
   "execution_count": 1,
   "metadata": {},
   "outputs": [
    {
     "data": {
      "text/plain": [
       "Intitializing Scala interpreter ..."
      ]
     },
     "metadata": {},
     "output_type": "display_data"
    },
    {
     "data": {
      "text/plain": [
       "Spark Web UI available at http://192.168.1.14:4047\n",
       "SparkContext available as 'sc' (version = 3.0.3, master = local[*], app id = local-1642011063604)\n",
       "SparkSession available as 'spark'\n"
      ]
     },
     "metadata": {},
     "output_type": "display_data"
    },
    {
     "data": {
      "text/plain": [
       "import org.apache.spark.graphx._\n"
      ]
     },
     "execution_count": 1,
     "metadata": {},
     "output_type": "execute_result"
    }
   ],
   "source": [
    "import org.apache.spark.graphx._"
   ]
  },
  {
   "cell_type": "code",
   "execution_count": 2,
   "metadata": {},
   "outputs": [
    {
     "data": {
      "text/plain": [
       "myVertices: org.apache.spark.rdd.RDD[(Long, String)] = ParallelCollectionRDD[0] at makeRDD at <console>:28\n",
       "myEdges: org.apache.spark.rdd.RDD[org.apache.spark.graphx.Edge[String]] = ParallelCollectionRDD[1] at makeRDD at <console>:34\n",
       "myGraph: org.apache.spark.graphx.Graph[String,String] = org.apache.spark.graphx.impl.GraphImpl@286d7527\n",
       "res0: Array[(org.apache.spark.graphx.VertexId, String)] = Array((1,Ann), (2,Bill), (3,Charles), (4,Diane), (5,Went to gym this morning))\n"
      ]
     },
     "execution_count": 2,
     "metadata": {},
     "output_type": "execute_result"
    }
   ],
   "source": [
    "val myVertices = sc.makeRDD(Array((1L, \"Ann\"),\n",
    "                                  (2L, \"Bill\"),\n",
    "                                  (3L, \"Charles\"),\n",
    "                                  (4L, \"Diane\"),\n",
    "                                  (5L, \"Went to gym this morning\")))\n",
    "\n",
    "val myEdges = sc.makeRDD(Array(Edge(1L, 2L, \"is-friends-with\"),\n",
    "                               Edge(2L, 3L, \"is-friends-with\"), \n",
    "                               Edge(3L, 4L, \"is-friends-with\"),\n",
    "                               Edge(4L, 5L, \"Likes-status\"), \n",
    "                               Edge(3L, 5L, \"Wrote-status\")))\n",
    "\n",
    "val myGraph = Graph(myVertices, myEdges)\n",
    "\n",
    "myGraph.vertices.collect"
   ]
  },
  {
   "cell_type": "code",
   "execution_count": 3,
   "metadata": {},
   "outputs": [
    {
     "name": "stdout",
     "output_type": "stream",
     "text": [
      "((1,Ann),(2,Bill),is-friends-with)\n",
      "((2,Bill),(3,Charles),is-friends-with)\n",
      "((3,Charles),(4,Diane),is-friends-with)\n",
      "((4,Diane),(5,Went to gym this morning),Likes-status)\n",
      "((3,Charles),(5,Went to gym this morning),Wrote-status)\n"
     ]
    }
   ],
   "source": [
    "myGraph.triplets.collect.foreach(println)"
   ]
  },
  {
   "cell_type": "code",
   "execution_count": null,
   "metadata": {},
   "outputs": [],
   "source": []
  },
  {
   "cell_type": "code",
   "execution_count": 4,
   "metadata": {},
   "outputs": [
    {
     "name": "stdout",
     "output_type": "stream",
     "text": [
      "((1,Ann),(2,Bill),(is-friends-with,true))\n",
      "((2,Bill),(3,Charles),(is-friends-with,false))\n",
      "((3,Charles),(4,Diane),(is-friends-with,true))\n",
      "((4,Diane),(5,Went to gym this morning),(Likes-status,false))\n",
      "((3,Charles),(5,Went to gym this morning),(Wrote-status,false))\n"
     ]
    }
   ],
   "source": [
    "myGraph.mapTriplets(t => (t.attr, t.attr==\"is-friends-with\" && \n",
    "                              t.srcAttr.toLowerCase.contains(\"a\")))\n",
    "                    .triplets.collect.foreach(println)"
   ]
  },
  {
   "cell_type": "code",
   "execution_count": 5,
   "metadata": {},
   "outputs": [
    {
     "name": "stdout",
     "output_type": "stream",
     "text": [
      "((1,Ann),(2,Bill),(is-friends-with,true))\n",
      "((2,Bill),(3,Charles),(is-friends-with,false))\n",
      "((3,Charles),(4,Diane),(is-friends-with,true))\n",
      "((4,Diane),(5,Went to gym this morning),(Likes-status,false))\n",
      "((3,Charles),(5,Went to gym this morning),(Wrote-status,false))\n"
     ]
    }
   ],
   "source": [
    "myGraph.mapTriplets((t => (t.attr, t.attr==\"is-friends-with\" && \n",
    "                               t.srcAttr.toLowerCase.contains(\"a\"))) : \n",
    "                                    (EdgeTriplet[String,String] => Tuple2[String,Boolean]))\n",
    "                    .triplets.collect.foreach(println)"
   ]
  },
  {
   "cell_type": "code",
   "execution_count": 6,
   "metadata": {},
   "outputs": [
    {
     "name": "stdout",
     "output_type": "stream",
     "text": [
      "(1,1)\n",
      "(2,1)\n",
      "(3,2)\n",
      "(4,1)\n"
     ]
    }
   ],
   "source": [
    "myGraph.aggregateMessages[Int](_.sendToSrc(1), _ + _).collect.foreach(println)"
   ]
  },
  {
   "cell_type": "code",
   "execution_count": 7,
   "metadata": {},
   "outputs": [
    {
     "name": "stdout",
     "output_type": "stream",
     "text": [
      "(1,(1,Ann))\n",
      "(2,(1,Bill))\n",
      "(3,(2,Charles))\n",
      "(4,(1,Diane))\n"
     ]
    }
   ],
   "source": [
    "myGraph.aggregateMessages[Int](_.sendToSrc(1), _ + _).join(myGraph.vertices)\n",
    "    .collect.foreach(println)"
   ]
  },
  {
   "cell_type": "code",
   "execution_count": 8,
   "metadata": {},
   "outputs": [
    {
     "name": "stdout",
     "output_type": "stream",
     "text": [
      "(Ann,1)\n",
      "(Bill,1)\n",
      "(Charles,2)\n",
      "(Diane,1)\n"
     ]
    }
   ],
   "source": [
    "myGraph.aggregateMessages[Int](_.sendToSrc(1), _ + _)\n",
    "    .join(myGraph.vertices).map(_._2.swap).collect.foreach(println)"
   ]
  },
  {
   "cell_type": "code",
   "execution_count": 9,
   "metadata": {},
   "outputs": [
    {
     "name": "stdout",
     "output_type": "stream",
     "text": [
      "(Ann,Some(1))\n",
      "(Bill,Some(1))\n",
      "(Charles,Some(2))\n",
      "(Diane,Some(1))\n",
      "(Went to gym this morning,None)\n"
     ]
    }
   ],
   "source": [
    "myGraph.aggregateMessages[Int](_.sendToSrc(1), _ + _)\n",
    "    .rightOuterJoin(myGraph.vertices).map(_._2.swap).collect.foreach(println)"
   ]
  },
  {
   "cell_type": "code",
   "execution_count": 10,
   "metadata": {},
   "outputs": [
    {
     "name": "stdout",
     "output_type": "stream",
     "text": [
      "(Ann,1)\n",
      "(Bill,1)\n",
      "(Charles,2)\n",
      "(Diane,1)\n",
      "(Went to gym this morning,0)\n"
     ]
    }
   ],
   "source": [
    "myGraph.aggregateMessages[Int](_.sendToSrc(1), _ + _)\n",
    "    .rightOuterJoin(myGraph.vertices).map(x => (x._2._2, x._2._1.getOrElse(0)))\n",
    "    .collect.foreach(println)"
   ]
  },
  {
   "cell_type": "markdown",
   "metadata": {},
   "source": [
    "<hr>\n",
    "\n",
    "Đoạn code này giúp tìm khoảng cách giữa 2 điểm xa nhất"
   ]
  },
  {
   "cell_type": "code",
   "execution_count": 11,
   "metadata": {},
   "outputs": [
    {
     "data": {
      "text/plain": [
       "sendMsg: (ec: org.apache.spark.graphx.EdgeContext[Int,String,Int])Unit\n",
       "mergeMsg: (a: Int, b: Int)Int\n",
       "propagateEdgeCount: (g: org.apache.spark.graphx.Graph[Int,String])org.apache.spark.graphx.Graph[Int,String]\n"
      ]
     },
     "execution_count": 11,
     "metadata": {},
     "output_type": "execute_result"
    }
   ],
   "source": [
    "def sendMsg(ec:EdgeContext[Int, String, Int]):Unit = {\n",
    "    ec.sendToDst(ec.srcAttr + 1)\n",
    "}\n",
    "\n",
    "def mergeMsg(a:Int, b:Int):Int = {\n",
    "    math.max(a, b)\n",
    "}\n",
    "\n",
    "def propagateEdgeCount(g:Graph[Int, String]):Graph[Int, String] = {\n",
    "    val verts = g.aggregateMessages[Int](sendMsg, mergeMsg)\n",
    "    val g2 = Graph(verts, g.edges)\n",
    "    \n",
    "    val check = g2.vertices.join(g.vertices)\n",
    "                    .map(x => x._2._1 - x._2._2).reduce(_ + _)\n",
    "    \n",
    "    if (check > 0) propagateEdgeCount(g2)\n",
    "    else g\n",
    "}"
   ]
  },
  {
   "cell_type": "code",
   "execution_count": null,
   "metadata": {},
   "outputs": [],
   "source": []
  },
  {
   "cell_type": "code",
   "execution_count": null,
   "metadata": {},
   "outputs": [],
   "source": []
  },
  {
   "cell_type": "code",
   "execution_count": null,
   "metadata": {},
   "outputs": [],
   "source": []
  }
 ],
 "metadata": {
  "kernelspec": {
   "display_name": "spylon-kernel",
   "language": "scala",
   "name": "spylon-kernel"
  },
  "language_info": {
   "codemirror_mode": "text/x-scala",
   "file_extension": ".scala",
   "help_links": [
    {
     "text": "MetaKernel Magics",
     "url": "https://metakernel.readthedocs.io/en/latest/source/README.html"
    }
   ],
   "mimetype": "text/x-scala",
   "name": "scala",
   "pygments_lexer": "scala",
   "version": "0.4.1"
  }
 },
 "nbformat": 4,
 "nbformat_minor": 4
}
