{
 "cells": [
  {
   "cell_type": "markdown",
   "id": "a703ea5d-9271-4bab-8fc4-f24c08051780",
   "metadata": {},
   "source": [
    "Khai báo một hàm bình thường trong Scala"
   ]
  },
  {
   "cell_type": "code",
   "execution_count": 1,
   "id": "0b3597ad-b63b-470c-b8cd-189ece4a39f3",
   "metadata": {},
   "outputs": [
    {
     "data": {
      "text/plain": [
       "Intitializing Scala interpreter ..."
      ]
     },
     "metadata": {},
     "output_type": "display_data"
    },
    {
     "data": {
      "text/plain": [
       "Spark Web UI available at http://192.168.1.14:4040\n",
       "SparkContext available as 'sc' (version = 3.0.3, master = local[*], app id = local-1641911861902)\n",
       "SparkSession available as 'spark'\n"
      ]
     },
     "metadata": {},
     "output_type": "display_data"
    },
    {
     "data": {
      "text/plain": [
       "welcome: (name: String)String\n"
      ]
     },
     "execution_count": 1,
     "metadata": {},
     "output_type": "execute_result"
    }
   ],
   "source": [
    "def welcome(name:String) = \"Hello, \" + name"
   ]
  },
  {
   "cell_type": "code",
   "execution_count": null,
   "id": "08c7f6e5-4b43-4359-aaab-1ec6495a68f9",
   "metadata": {},
   "outputs": [],
   "source": []
  },
  {
   "cell_type": "code",
   "execution_count": 2,
   "id": "855a13a5-c7e1-4e1b-a3b0-acaf85aae033",
   "metadata": {},
   "outputs": [
    {
     "data": {
      "text/plain": [
       "res0: String = Hello, Mạnh Cường\n"
      ]
     },
     "execution_count": 2,
     "metadata": {},
     "output_type": "execute_result"
    }
   ],
   "source": [
    "welcome(\"Mạnh Cường\")"
   ]
  },
  {
   "cell_type": "markdown",
   "id": "08f7dbc3-b919-429e-8806-9bba00e7f16e",
   "metadata": {},
   "source": [
    "Khai báo một anonymous function"
   ]
  },
  {
   "cell_type": "code",
   "execution_count": 3,
   "id": "181abd35-8086-4e28-9300-15bc04663789",
   "metadata": {},
   "outputs": [
    {
     "data": {
      "text/plain": [
       "f: String => String = $Lambda$1933/0x0000000840bd2040@f8f47da\n"
      ]
     },
     "execution_count": 3,
     "metadata": {},
     "output_type": "execute_result"
    }
   ],
   "source": [
    "val f = (name:String) => \"Hello, \" + name"
   ]
  },
  {
   "cell_type": "code",
   "execution_count": 4,
   "id": "ac8baf96-692e-4c1d-a3ee-0460c6028d4d",
   "metadata": {},
   "outputs": [
    {
     "data": {
      "text/plain": [
       "res1: String = Hello, Mạnh Cường\n"
      ]
     },
     "execution_count": 4,
     "metadata": {},
     "output_type": "execute_result"
    }
   ],
   "source": [
    "f(\"Mạnh Cường\")"
   ]
  },
  {
   "cell_type": "code",
   "execution_count": 5,
   "id": "c87a9414-66e7-4690-8ee9-76462b840c56",
   "metadata": {},
   "outputs": [
    {
     "data": {
      "text/plain": [
       "res2: String = Hello, Khánh Hưng\n"
      ]
     },
     "execution_count": 5,
     "metadata": {},
     "output_type": "execute_result"
    }
   ],
   "source": [
    "f(\"Khánh Hưng\")"
   ]
  },
  {
   "cell_type": "code",
   "execution_count": 7,
   "id": "32dac5d2-bb74-4b52-b028-41f642e2a514",
   "metadata": {},
   "outputs": [
    {
     "name": "stdout",
     "output_type": "stream",
     "text": [
      "Hello, Cường\n",
      "Hello, Quế\n",
      "Hello, Phương\n"
     ]
    }
   ],
   "source": [
    "List(\"Cường\", \"Quế\", \"Phương\").map((name) => \"Hello, \" + name).foreach(println)"
   ]
  },
  {
   "cell_type": "code",
   "execution_count": 2,
   "id": "6a95c1a5-1574-4581-87c9-c6ad0b8d01ad",
   "metadata": {},
   "outputs": [
    {
     "data": {
      "text/plain": [
       "f: Int => Int = null\n"
      ]
     },
     "execution_count": 2,
     "metadata": {},
     "output_type": "execute_result"
    }
   ],
   "source": [
    "var f:Int => Int = null"
   ]
  },
  {
   "cell_type": "code",
   "execution_count": 3,
   "id": "fc486ca8-7f7c-40a1-9987-114eeda20882",
   "metadata": {},
   "outputs": [
    {
     "data": {
      "text/plain": [
       "doStuff: ()Unit\n"
      ]
     },
     "execution_count": 3,
     "metadata": {},
     "output_type": "execute_result"
    }
   ],
   "source": [
    "def doStuff() = {\n",
    "    var n = 3;\n",
    "    \n",
    "    def addn(m:Int) = {\n",
    "        m + n\n",
    "    }\n",
    "    \n",
    "    f = addn\n",
    "    n = n + 1\n",
    "}"
   ]
  },
  {
   "cell_type": "code",
   "execution_count": 4,
   "id": "310000f6-b492-43ec-9f28-2bcc939a74f5",
   "metadata": {},
   "outputs": [],
   "source": [
    "doStuff()"
   ]
  },
  {
   "cell_type": "code",
   "execution_count": 5,
   "id": "56a4dc1c-9981-4436-9ad4-5d9de98e61ad",
   "metadata": {},
   "outputs": [
    {
     "data": {
      "text/plain": [
       "res1: Int = 6\n"
      ]
     },
     "execution_count": 5,
     "metadata": {},
     "output_type": "execute_result"
    }
   ],
   "source": [
    "f(2)"
   ]
  },
  {
   "cell_type": "code",
   "execution_count": 6,
   "id": "82b851a0-d8d4-48d8-ba4f-a8ecfdc36fa4",
   "metadata": {},
   "outputs": [
    {
     "data": {
      "text/plain": [
       "res2: Int = 7\n"
      ]
     },
     "execution_count": 6,
     "metadata": {},
     "output_type": "execute_result"
    }
   ],
   "source": [
    "f(3)"
   ]
  },
  {
   "cell_type": "code",
   "execution_count": 8,
   "id": "24808b4a-0c7b-4564-be61-89245d614e32",
   "metadata": {},
   "outputs": [
    {
     "data": {
      "text/plain": [
       "import scala.collection.mutable.ListBuffer\n",
       "myList: scala.collection.mutable.ListBuffer[Int] = ListBuffer()\n"
      ]
     },
     "execution_count": 8,
     "metadata": {},
     "output_type": "execute_result"
    }
   ],
   "source": [
    "import scala.collection.mutable.ListBuffer\n",
    "val myList = new ListBuffer[Int]();"
   ]
  },
  {
   "cell_type": "code",
   "execution_count": 9,
   "id": "c4cdaf9d-c62f-48a3-a248-d4520a3d22f2",
   "metadata": {},
   "outputs": [
    {
     "data": {
      "text/plain": [
       "addOne: (x: Int)Double\n"
      ]
     },
     "execution_count": 9,
     "metadata": {},
     "output_type": "execute_result"
    }
   ],
   "source": [
    "def addOne(x:Int) = {\n",
    "    val xPlusOne = x + 1.0\n",
    "    xPlusOne\n",
    "}"
   ]
  },
  {
   "cell_type": "code",
   "execution_count": 10,
   "id": "006d32b7-1b85-4d9d-9a19-832f66d163a7",
   "metadata": {},
   "outputs": [
    {
     "data": {
      "text/plain": [
       "addOne: (x: Int)Double\n"
      ]
     },
     "execution_count": 10,
     "metadata": {},
     "output_type": "execute_result"
    }
   ],
   "source": [
    "def addOne(x:Int):Double = {\n",
    "    val xPlusOne = x + 1.0\n",
    "    xPlusOne\n",
    "}"
   ]
  },
  {
   "cell_type": "code",
   "execution_count": 11,
   "id": "e6a574be-6433-40cc-bb00-9655be499964",
   "metadata": {},
   "outputs": [
    {
     "name": "stdout",
     "output_type": "stream",
     "text": [
      "Rod has 3 coconuts.\n"
     ]
    },
    {
     "data": {
      "text/plain": [
       "t: (String, Int) = (Rod,3)\n"
      ]
     },
     "execution_count": 11,
     "metadata": {},
     "output_type": "execute_result"
    }
   ],
   "source": [
    "val t = Tuple2(\"Rod\", 3)\n",
    "println(t._1 + \" has \" + t._2 + \" coconuts.\")"
   ]
  },
  {
   "cell_type": "code",
   "execution_count": 12,
   "id": "dae5f84e-788a-4f4e-9273-fa5fdd560b2c",
   "metadata": {},
   "outputs": [
    {
     "name": "stdout",
     "output_type": "stream",
     "text": [
      "Rod has 2 coconuts.\n"
     ]
    },
    {
     "data": {
      "text/plain": [
       "t2: (String, Int) = (Rod,2)\n"
      ]
     },
     "execution_count": 12,
     "metadata": {},
     "output_type": "execute_result"
    }
   ],
   "source": [
    "val t2 = (\"Rod\", 2)\n",
    "println(t2._1 + \" has \" + t2._2 + \" coconuts.\")"
   ]
  },
  {
   "cell_type": "code",
   "execution_count": 14,
   "id": "0e437391-449a-4ef9-8839-ab2ccd37dfc3",
   "metadata": {},
   "outputs": [
    {
     "data": {
      "text/plain": [
       "defined class myClass\n"
      ]
     },
     "execution_count": 14,
     "metadata": {},
     "output_type": "execute_result"
    }
   ],
   "source": [
    "class myClass(initName:String, initId:Integer) {\n",
    "    val name:String = initName\n",
    "    private var id:Integer = initId\n",
    "    \n",
    "    def makeMessage = {\n",
    "        \"Hi, I'm a \" + name + \" with id \" + id\n",
    "    }\n",
    "}"
   ]
  },
  {
   "cell_type": "code",
   "execution_count": 15,
   "id": "86f617e4-ccdc-42e4-991d-8f2b0168d770",
   "metadata": {},
   "outputs": [
    {
     "data": {
      "text/plain": [
       "x: myClass = myClass@4957fa2f\n"
      ]
     },
     "execution_count": 15,
     "metadata": {},
     "output_type": "execute_result"
    }
   ],
   "source": [
    "val x = new myClass(\"Cường\", 3)"
   ]
  },
  {
   "cell_type": "code",
   "execution_count": 16,
   "id": "eb9b8dd3-fa4d-4312-ad11-e0f5f9f568a6",
   "metadata": {},
   "outputs": [
    {
     "data": {
      "text/plain": [
       "res5: String = Hi, I'm a Cường with id 3\n"
      ]
     },
     "execution_count": 16,
     "metadata": {},
     "output_type": "execute_result"
    }
   ],
   "source": [
    "x.makeMessage"
   ]
  },
  {
   "cell_type": "code",
   "execution_count": 17,
   "id": "4b70bae7-0881-432a-9575-7570d14cc5ec",
   "metadata": {},
   "outputs": [
    {
     "data": {
      "text/plain": [
       "defined class myClass2\n",
       "y1: myClass2 = myClass2@428afebe\n",
       "y2: myClass2 = myClass2@cad0a58\n"
      ]
     },
     "execution_count": 17,
     "metadata": {},
     "output_type": "execute_result"
    }
   ],
   "source": [
    "class myClass2(val name:String, id:Integer = 0) {\n",
    "    def makeMessage = \"Hi, I'm a \" + name + \" with id \" + id\n",
    "}\n",
    "\n",
    "val y1 = new myClass2(\"Cường\", 3)\n",
    "val y2 = new myClass2(\"Quế\")"
   ]
  },
  {
   "cell_type": "code",
   "execution_count": 18,
   "id": "43b2b67e-1c69-4891-a15c-93f8762ce5de",
   "metadata": {},
   "outputs": [
    {
     "data": {
      "text/plain": [
       "res6: String = Hi, I'm a Cường with id 3\n"
      ]
     },
     "execution_count": 18,
     "metadata": {},
     "output_type": "execute_result"
    }
   ],
   "source": [
    "y1.makeMessage"
   ]
  },
  {
   "cell_type": "code",
   "execution_count": 19,
   "id": "87124408-c4da-4921-8de5-69bfba9e3ee0",
   "metadata": {},
   "outputs": [
    {
     "data": {
      "text/plain": [
       "res7: String = Hi, I'm a Quế with id 0\n"
      ]
     },
     "execution_count": 19,
     "metadata": {},
     "output_type": "execute_result"
    }
   ],
   "source": [
    "y2.makeMessage"
   ]
  },
  {
   "cell_type": "code",
   "execution_count": 21,
   "id": "36e9be23-3c77-4fb1-9c71-2686e37be577",
   "metadata": {},
   "outputs": [
    {
     "data": {
      "text/plain": [
       "defined class myClass3\n",
       "z: myClass3 = myClass3(Cường,3)\n",
       "res8: String = Hi, I'm a Cường with id 3\n"
      ]
     },
     "execution_count": 21,
     "metadata": {},
     "output_type": "execute_result"
    }
   ],
   "source": [
    "case class myClass3(name:String, id:Integer = 0) {\n",
    "    def makeMessage = \"Hi, I'm a \" + name + \" with id \" + id\n",
    "}\n",
    "\n",
    "val z = myClass3(\"Cường\", 3)\n",
    "z.makeMessage"
   ]
  },
  {
   "cell_type": "code",
   "execution_count": null,
   "id": "4de738dc-98e4-47d4-a1de-d1b17a4d311b",
   "metadata": {},
   "outputs": [],
   "source": []
  },
  {
   "cell_type": "code",
   "execution_count": 22,
   "id": "36953c6f-02b3-427d-998e-413d28c416d3",
   "metadata": {},
   "outputs": [
    {
     "data": {
      "text/plain": [
       "defined class fruitCount\n",
       "groceries: List[fruitCount] = List(fruitCount@36587753, fruitCount@1cf6a428)\n",
       "res9: Int = 8\n"
      ]
     },
     "execution_count": 22,
     "metadata": {},
     "output_type": "execute_result"
    }
   ],
   "source": [
    "class fruitCount(val name:String, val num:Int)\n",
    "val groceries = List(new fruitCount(\"banana\", 5), new fruitCount(\"apple\", 3))\n",
    "groceries.map(f => f.num).reduce((a:Int, b:Int) => a + b)"
   ]
  },
  {
   "cell_type": "code",
   "execution_count": 25,
   "id": "934740c1-6079-4992-ad52-091da34ba91d",
   "metadata": {},
   "outputs": [
    {
     "data": {
      "text/plain": [
       "res12: Int = 8\n"
      ]
     },
     "execution_count": 25,
     "metadata": {},
     "output_type": "execute_result"
    }
   ],
   "source": [
    "groceries.map(_.num).reduce((a:Int, b:Int) => a + b)"
   ]
  },
  {
   "cell_type": "code",
   "execution_count": null,
   "id": "260bf237-d1f6-45f4-8f09-cda00c024953",
   "metadata": {},
   "outputs": [],
   "source": []
  },
  {
   "cell_type": "code",
   "execution_count": 26,
   "id": "5a6fc8c9-7497-4eea-adac-9fe42088c2b1",
   "metadata": {},
   "outputs": [
    {
     "data": {
      "text/plain": [
       "s: String = bigger\n",
       "res13: String = bigger\n"
      ]
     },
     "execution_count": 26,
     "metadata": {},
     "output_type": "execute_result"
    }
   ],
   "source": [
    "val s = if (2.3 > 2.2) \"bigger\" else \"smaller\"\n",
    "s"
   ]
  },
  {
   "cell_type": "code",
   "execution_count": 27,
   "id": "7880df2e-d9d6-4b0c-8fa8-694eebab2d39",
   "metadata": {},
   "outputs": [
    {
     "data": {
      "text/plain": [
       "doubleEvenSquare: (x: Int)Int\n"
      ]
     },
     "execution_count": 27,
     "metadata": {},
     "output_type": "execute_result"
    }
   ],
   "source": [
    "def doubleEvenSquare(x:Int) = {\n",
    "    if (x % 2 == 0) {\n",
    "        val square = x*x\n",
    "        2*square\n",
    "    } else x\n",
    "}"
   ]
  },
  {
   "cell_type": "code",
   "execution_count": 29,
   "id": "cef3e563-4e48-4b59-b0ad-0a9bead4df55",
   "metadata": {},
   "outputs": [
    {
     "data": {
      "text/plain": [
       "res15: Int = 32\n"
      ]
     },
     "execution_count": 29,
     "metadata": {},
     "output_type": "execute_result"
    }
   ],
   "source": [
    "doubleEvenSquare(4)"
   ]
  },
  {
   "cell_type": "code",
   "execution_count": 30,
   "id": "ae4419a0-f700-463d-b838-2761288c508d",
   "metadata": {},
   "outputs": [
    {
     "data": {
      "text/plain": [
       "res16: Int = 3\n"
      ]
     },
     "execution_count": 30,
     "metadata": {},
     "output_type": "execute_result"
    }
   ],
   "source": [
    "doubleEvenSquare(3)"
   ]
  },
  {
   "cell_type": "code",
   "execution_count": null,
   "id": "8bb5ed6f-1bb1-4b75-a85b-461c64577224",
   "metadata": {},
   "outputs": [],
   "source": []
  },
  {
   "cell_type": "code",
   "execution_count": 31,
   "id": "050906b6-2e4e-4ba0-822b-01eb75c3cd98",
   "metadata": {},
   "outputs": [
    {
     "data": {
      "text/plain": [
       "defined class parserState\n",
       "defined class mantissaState\n",
       "defined class fractionalState\n",
       "defined class exponentState\n",
       "stateMantissaConsume: (c: Char)scala.runtime.AbstractFunction0[Product with Serializable with parserState]\n"
      ]
     },
     "execution_count": 31,
     "metadata": {},
     "output_type": "execute_result"
    }
   ],
   "source": [
    "class parserState\n",
    "case class mantissaState() extends parserState\n",
    "case class fractionalState() extends parserState\n",
    "case class exponentState() extends parserState\n",
    "\n",
    "def stateMantissaConsume(c:Char) = c match {\n",
    "    case '.' => fractionalState\n",
    "    case 'E' => exponentState\n",
    "    case _ => mantissaState\n",
    "}"
   ]
  },
  {
   "cell_type": "markdown",
   "id": "a650148d-6cef-450b-ac78-1edcd2661069",
   "metadata": {},
   "source": [
    "# 3.2"
   ]
  },
  {
   "cell_type": "code",
   "execution_count": 32,
   "id": "f3e3f83c-c660-42fc-a68c-ebbad73af8a8",
   "metadata": {},
   "outputs": [
    {
     "data": {
      "text/plain": [
       "r: org.apache.spark.rdd.RDD[Int] = ParallelCollectionRDD[0] at makeRDD at <console>:28\n",
       "r2: org.apache.spark.rdd.RDD[Int] = MapPartitionsRDD[1] at map at <console>:29\n",
       "result: Int = 12\n"
      ]
     },
     "execution_count": 32,
     "metadata": {},
     "output_type": "execute_result"
    }
   ],
   "source": [
    "val r = sc.makeRDD(Array(1,2,3))\n",
    "val r2 = r.map(x => 2*x)\n",
    "val result = r2.reduce(_ + _)"
   ]
  },
  {
   "cell_type": "code",
   "execution_count": 33,
   "id": "e6e88f01-9882-4b31-bc48-158603aebcfe",
   "metadata": {},
   "outputs": [
    {
     "data": {
      "text/plain": [
       "import org.apache.spark.SparkContext\n",
       "import org.apache.spark.SparkConf\n",
       "defined object helloworld\n"
      ]
     },
     "execution_count": 33,
     "metadata": {},
     "output_type": "execute_result"
    }
   ],
   "source": [
    "import org.apache.spark.SparkContext\n",
    "import org.apache.spark.SparkConf\n",
    "object helloworld {\n",
    "def main(args: Array[String]) {\n",
    "val sc = new SparkContext(new SparkConf().setMaster(\"local\")\n",
    ".setAppName(\"helloworld\"))\n",
    "val r = sc.makeRDD(Array(\"Hello\", \"World\"))\n",
    "r.foreach(println(_))\n",
    "sc.stop\n",
    "}\n",
    "}"
   ]
  },
  {
   "cell_type": "code",
   "execution_count": 35,
   "id": "c80e7e6f-11c2-453e-8c01-d9a29001a4b4",
   "metadata": {},
   "outputs": [
    {
     "data": {
      "text/plain": [
       "res18: helloworld.type = helloworld$@1128f38f\n"
      ]
     },
     "execution_count": 35,
     "metadata": {},
     "output_type": "execute_result"
    }
   ],
   "source": [
    "helloworld"
   ]
  },
  {
   "cell_type": "code",
   "execution_count": null,
   "id": "41d802ef-35f6-4f8f-9755-ce466d7c3b8d",
   "metadata": {},
   "outputs": [],
   "source": []
  }
 ],
 "metadata": {
  "kernelspec": {
   "display_name": "spylon-kernel",
   "language": "scala",
   "name": "spylon-kernel"
  },
  "language_info": {
   "codemirror_mode": "text/x-scala",
   "file_extension": ".scala",
   "help_links": [
    {
     "text": "MetaKernel Magics",
     "url": "https://metakernel.readthedocs.io/en/latest/source/README.html"
    }
   ],
   "mimetype": "text/x-scala",
   "name": "scala",
   "pygments_lexer": "scala",
   "version": "0.4.1"
  }
 },
 "nbformat": 4,
 "nbformat_minor": 5
}
