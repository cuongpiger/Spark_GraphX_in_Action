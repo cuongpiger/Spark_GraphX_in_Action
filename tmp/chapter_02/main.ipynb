{
 "cells": [
  {
   "cell_type": "code",
   "execution_count": 1,
   "id": "7f594400-05ae-490d-a2e1-bbd1778c3a44",
   "metadata": {},
   "outputs": [
    {
     "data": {
      "text/plain": [
       "Intitializing Scala interpreter ..."
      ]
     },
     "metadata": {},
     "output_type": "display_data"
    },
    {
     "data": {
      "text/plain": [
       "Spark Web UI available at http://192.168.1.14:4040\n",
       "SparkContext available as 'sc' (version = 3.0.3, master = local[*], app id = local-1641884362522)\n",
       "SparkSession available as 'spark'\n"
      ]
     },
     "metadata": {},
     "output_type": "display_data"
    },
    {
     "data": {
      "text/plain": [
       "import org.apache.spark.graphx._\n"
      ]
     },
     "execution_count": 1,
     "metadata": {},
     "output_type": "execute_result"
    }
   ],
   "source": [
    "import org.apache.spark.graphx._"
   ]
  },
  {
   "cell_type": "markdown",
   "id": "f22a8ce1-f9a5-4acb-909b-e51a0c8dd631",
   "metadata": {},
   "source": [
    "Tìm đỉnh nào có bậc trong cao nhất"
   ]
  },
  {
   "cell_type": "code",
   "execution_count": 2,
   "id": "b400e807-e9e0-41e5-b359-5e02a07176bc",
   "metadata": {},
   "outputs": [
    {
     "data": {
      "text/plain": [
       "graph: org.apache.spark.graphx.Graph[Int,Int] = org.apache.spark.graphx.impl.GraphImpl@462be5e5\n",
       "res0: (org.apache.spark.graphx.VertexId, Int) = (9711200,2414)\n"
      ]
     },
     "execution_count": 2,
     "metadata": {},
     "output_type": "execute_result"
    }
   ],
   "source": [
    "val graph = GraphLoader.edgeListFile(sc, \"./data/Cit-HepTh.txt\") // hàm này dùng để load dữ liệu dạng cạnh\n",
    "graph.inDegrees.reduce((a, b) => if (a._2 > b._2) a else b)"
   ]
  },
  {
   "cell_type": "markdown",
   "id": "979402e2-f71d-430b-986d-b0fd3b30c0cd",
   "metadata": {},
   "source": [
    "Lấy ra 10 đỉnh từ `graph`"
   ]
  },
  {
   "cell_type": "code",
   "execution_count": 3,
   "id": "1a150f7a-9fb5-4b0b-873f-641b5eaa814a",
   "metadata": {},
   "outputs": [
    {
     "data": {
      "text/plain": [
       "res1: Array[(org.apache.spark.graphx.VertexId, Int)] = Array((9405166,1), (9312172,1), (108150,1), (9166,1), (204100,1), (9703222,1), (9709148,1), (105040,1), (9811116,1), (103184,1))\n"
      ]
     },
     "execution_count": 3,
     "metadata": {},
     "output_type": "execute_result"
    }
   ],
   "source": [
    "graph.vertices.take(10)"
   ]
  },
  {
   "cell_type": "markdown",
   "id": "652c4793-c1cb-4c64-b052-36ed4963ed45",
   "metadata": {},
   "source": [
    "Chạy thử **PageRank**. Tính toán PageRank cho toàn bộ các đỉnh trong `graph`"
   ]
  },
  {
   "cell_type": "code",
   "execution_count": 4,
   "id": "14046a5d-9e87-437a-b38f-d65b618f0cba",
   "metadata": {},
   "outputs": [
    {
     "data": {
      "text/plain": [
       "v: org.apache.spark.graphx.VertexRDD[Double] = VertexRDDImpl[1145] at RDD at VertexRDD.scala:57\n",
       "res2: org.apache.spark.graphx.VertexRDD[Double] = VertexRDDImpl[1145] at RDD at VertexRDD.scala:57\n"
      ]
     },
     "execution_count": 4,
     "metadata": {},
     "output_type": "execute_result"
    }
   ],
   "source": [
    "val v = graph.pageRank(0.001).vertices\n",
    "v"
   ]
  },
  {
   "cell_type": "markdown",
   "id": "b73e0ac5-04f2-4278-a905-fe9409ec51ca",
   "metadata": {},
   "source": [
    "Lấy đại ra 10 giá trị đỉnh từ `v` "
   ]
  },
  {
   "cell_type": "code",
   "execution_count": 5,
   "id": "54816438-eacc-4de1-9a80-2ed4cefbe17e",
   "metadata": {},
   "outputs": [
    {
     "data": {
      "text/plain": [
       "res3: Array[(org.apache.spark.graphx.VertexId, Double)] = Array((9405166,2.707430771380688), (9312172,5.879994008842785), (108150,1.1820176015161064), (9166,0.37491926764253203), (204100,0.38644126026359177), (9703222,0.3346176306357948), (9709148,0.44914231489020956), (105040,0.3406899304435098), (9811116,0.32821602303782943), (103184,0.41392987365734185))\n"
      ]
     },
     "execution_count": 5,
     "metadata": {},
     "output_type": "execute_result"
    }
   ],
   "source": [
    "v.take(10)"
   ]
  },
  {
   "cell_type": "markdown",
   "id": "e12620a7-59e0-4272-8402-3c9d943387d8",
   "metadata": {},
   "source": [
    "Tìm ra bài báo có sức ảnh hướng nhất (tức là có giá trị PageRank cao nhất)."
   ]
  },
  {
   "cell_type": "code",
   "execution_count": 6,
   "id": "1f3eda1f-17f0-4528-8728-ae5b83113e9f",
   "metadata": {},
   "outputs": [
    {
     "data": {
      "text/plain": [
       "res4: (org.apache.spark.graphx.VertexId, Double) = (9207016,172.7065661984784)\n"
      ]
     },
     "execution_count": 6,
     "metadata": {},
     "output_type": "execute_result"
    }
   ],
   "source": [
    "v.reduce((a,b) => if (a._2 > b._2) a else b)"
   ]
  },
  {
   "cell_type": "code",
   "execution_count": null,
   "id": "d2a36c63-5f0f-4999-80e2-5bc3030a4533",
   "metadata": {},
   "outputs": [],
   "source": []
  }
 ],
 "metadata": {
  "kernelspec": {
   "display_name": "spylon-kernel",
   "language": "scala",
   "name": "spylon-kernel"
  },
  "language_info": {
   "codemirror_mode": "text/x-scala",
   "file_extension": ".scala",
   "help_links": [
    {
     "text": "MetaKernel Magics",
     "url": "https://metakernel.readthedocs.io/en/latest/source/README.html"
    }
   ],
   "mimetype": "text/x-scala",
   "name": "scala",
   "pygments_lexer": "scala",
   "version": "0.4.1"
  }
 },
 "nbformat": 4,
 "nbformat_minor": 5
}
