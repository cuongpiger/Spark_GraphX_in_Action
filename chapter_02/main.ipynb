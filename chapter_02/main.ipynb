{
 "cells": [
  {
   "cell_type": "markdown",
   "metadata": {},
   "source": [
    "# 1. Các thuật toán trên đồ thị\n",
    "* Có các thuật toán trên đồ thị phổ biến là:\n",
    "  * Pathfinding and search.\n",
    "  * Centrality computation.\n",
    "  * Community detection.\n",
    "\n",
    "## 1.1. Pathfinding\n",
    "* Một ví dụ cho bài toán dạng này là tìm kiếm đường đi ngắn nhất, ngắn nhất ở đây có thể là:\n",
    "  * Có số bước đi ít nhất.\n",
    "  * Tổng trọng số trên con đường đó là nhỏ nhất.\n",
    "* Nếu là đồ thị có hướng, thì con đường đi phải tuân thủ theo chiều của cạnh. \n"
   ]
  },
  {
   "cell_type": "markdown",
   "metadata": {},
   "source": [
    "## 1.2. Centrality\n",
    "* Ví dụ cho bài toán dạng này là tìm node nào **quan trọng nhất** trong một network."
   ]
  },
  {
   "cell_type": "markdown",
   "metadata": {},
   "source": [
    "## 1.3. Community Detection\n"
   ]
  }
 ],
 "metadata": {
  "interpreter": {
   "hash": "8d9af65d782dbd37fec13b95660a3f96d11b2648e2cfc799a970c340749ecbb7"
  },
  "kernelspec": {
   "display_name": "Python 3.7.11 64-bit ('pyspark_env': conda)",
   "language": "python",
   "name": "python3"
  },
  "language_info": {
   "name": "python",
   "version": "3.7.11"
  },
  "orig_nbformat": 4
 },
 "nbformat": 4,
 "nbformat_minor": 2
}
